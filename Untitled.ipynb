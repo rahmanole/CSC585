{
 "cells": [
  {
   "cell_type": "markdown",
   "id": "00193bc9",
   "metadata": {},
   "source": [
    "<h2>P1. If we have a list x [1,2,3,4], how do we print the first element?</h2>"
   ]
  },
  {
   "cell_type": "code",
   "execution_count": 50,
   "id": "95095c20",
   "metadata": {},
   "outputs": [
    {
     "name": "stdout",
     "output_type": "stream",
     "text": [
      "1\n",
      "[1]\n",
      "1\n"
     ]
    }
   ],
   "source": [
    "x = [1,2,3,4]\n",
    "print(x[0])\n",
    "print(x[0:1])\n",
    "print(x[-len(x)])"
   ]
  },
  {
   "cell_type": "markdown",
   "id": "581dc3e1",
   "metadata": {},
   "source": [
    "<h2>P2. Which operator is used to compare two numbers for equality?</h2>"
   ]
  },
  {
   "cell_type": "markdown",
   "id": "591bd8ec",
   "metadata": {},
   "source": [
    "For comparison numbers in python we can use '==','!=','>','<','<=','>=' operators."
   ]
  },
  {
   "cell_type": "code",
   "execution_count": 43,
   "id": "65b7ebc7",
   "metadata": {},
   "outputs": [
    {
     "name": "stdout",
     "output_type": "stream",
     "text": [
      "False\n",
      "True\n",
      "True\n",
      "False\n",
      "False\n",
      "True\n"
     ]
    }
   ],
   "source": [
    "x = 13\n",
    "y = 11\n",
    "\n",
    "print(x == y)\n",
    "print(x != y)\n",
    "print(x>y)\n",
    "print(x < y)\n",
    "print(x <= y)\n",
    "print(x >= y)"
   ]
  },
  {
   "cell_type": "markdown",
   "id": "29c8b686",
   "metadata": {},
   "source": [
    "<h2>P3. Is it wise to compare two floating point numbers? Why or why not?<h2/>  \n",
    "<h4 style='margin:0px'>Due to rounding errors, most floating-point numbers end up being slightly imprecise. As long as this imprecision \n",
    "stays small, it can usually be ignored. However, it also means that numbers expected to be equal (e.g. when \n",
    "calculating the same result through different correct methods) often differ slightly, and a simple \n",
    "equality test fails.</h4>"
   ]
  },
  {
   "cell_type": "markdown",
   "id": "19490b6a",
   "metadata": {},
   "source": [
    "<h2>P4. Write a for loop which outputs the numbers one through 10 (1,2,3,4,5,...,10). Each number\n",
    "should be printed on a separate line.</h2>"
   ]
  },
  {
   "cell_type": "code",
   "execution_count": 44,
   "id": "d2df4805",
   "metadata": {},
   "outputs": [
    {
     "name": "stdout",
     "output_type": "stream",
     "text": [
      "1\n",
      "2\n",
      "3\n",
      "4\n",
      "5\n",
      "6\n",
      "7\n",
      "8\n",
      "9\n",
      "10\n"
     ]
    }
   ],
   "source": [
    "for i in range(1,11):\n",
    "    print(i,sep='\\n')"
   ]
  },
  {
   "cell_type": "markdown",
   "id": "86a6cb6e",
   "metadata": {},
   "source": [
    "<h2>P5. Help me concatenate the following two lists: [1,2,3,4] and [5,6,7,8].</h2> "
   ]
  },
  {
   "cell_type": "code",
   "execution_count": 1,
   "id": "6c10aac1",
   "metadata": {},
   "outputs": [
    {
     "name": "stdout",
     "output_type": "stream",
     "text": [
      "Using append() function\n",
      "[1, 2, 3, 4, 5, 6, 7, 8] \n",
      "\n",
      "Using extend() function\n",
      "[1, 2, 3, 4, 5, 6, 7, 8] \n",
      "\n",
      "Using append() function\n",
      "[1, 2, 3, 4, 5, 6, 7, 8] \n",
      "\n",
      "Using itertools library \n",
      "[1, 2, 3, 4, 5, 6, 7, 8]\n"
     ]
    }
   ],
   "source": [
    "x = [1,2,3,4]\n",
    "y = [5,6,7,8]\n",
    "\n",
    "## Using + operator\n",
    "\n",
    "print('Using append() function')\n",
    "\n",
    "new_list = x + y\n",
    "    \n",
    "print(new_list,'\\n')\n",
    "\n",
    "## Using extend() method\n",
    "\n",
    "print('Using extend() function')\n",
    "\n",
    "x.extend(y)\n",
    "    \n",
    "print(new_list,'\\n')\n",
    "\n",
    "## Using append() method\n",
    "print('Using append() function')\n",
    "x = [1,2,3,4]\n",
    "for i in y:\n",
    "    x.append(i)\n",
    "print(x,'\\n')\n",
    "\n",
    "## Using itertools library\n",
    "import itertools\n",
    "x = [1,2,3,4]\n",
    "print('Using itertools library ')\n",
    "new_list2 = list(itertools.chain.from_iterable([x,y]))\n",
    "print(new_list2)"
   ]
  },
  {
   "cell_type": "code",
   "execution_count": 2,
   "id": "ca168f31",
   "metadata": {},
   "outputs": [],
   "source": [
    "import numpy as np"
   ]
  },
  {
   "cell_type": "code",
   "execution_count": 3,
   "id": "0bb55e4d",
   "metadata": {},
   "outputs": [
    {
     "name": "stdout",
     "output_type": "stream",
     "text": [
      "0\n",
      "1\n"
     ]
    }
   ],
   "source": [
    "d = {\n",
    "    0:'a',\n",
    "    1:'s'\n",
    "}\n",
    "\n",
    "for i in d:\n",
    "    print(i)"
   ]
  },
  {
   "cell_type": "code",
   "execution_count": 4,
   "id": "fb4d9af1",
   "metadata": {},
   "outputs": [
    {
     "name": "stdout",
     "output_type": "stream",
     "text": [
      "abcd\n"
     ]
    }
   ],
   "source": [
    "print('abcd'.center(0))"
   ]
  },
  {
   "cell_type": "code",
   "execution_count": 6,
   "id": "952df9ca",
   "metadata": {},
   "outputs": [
    {
     "name": "stdout",
     "output_type": "stream",
     "text": [
      "d\n",
      "c\n",
      "b\n",
      "a\n"
     ]
    }
   ],
   "source": [
    "for i in 'abcd'[::-1]:\n",
    "    print(i)"
   ]
  },
  {
   "cell_type": "code",
   "execution_count": 7,
   "id": "1f69f0e7",
   "metadata": {},
   "outputs": [
    {
     "ename": "AttributeError",
     "evalue": "'str' object has no attribute 'contains'",
     "output_type": "error",
     "traceback": [
      "\u001b[0;31m---------------------------------------------------------------------------\u001b[0m",
      "\u001b[0;31mAttributeError\u001b[0m                            Traceback (most recent call last)",
      "\u001b[0;32m/var/folders/hr/84gg3m1s6y75pg48fs4msrvw0000gn/T/ipykernel_75937/1621018498.py\u001b[0m in \u001b[0;36m<module>\u001b[0;34m\u001b[0m\n\u001b[1;32m      1\u001b[0m \u001b[0ms1\u001b[0m \u001b[0;34m=\u001b[0m \u001b[0;34m'dfgr'\u001b[0m\u001b[0;34m\u001b[0m\u001b[0;34m\u001b[0m\u001b[0m\n\u001b[1;32m      2\u001b[0m \u001b[0ms2\u001b[0m \u001b[0;34m=\u001b[0m \u001b[0;34m'df'\u001b[0m\u001b[0;34m\u001b[0m\u001b[0;34m\u001b[0m\u001b[0m\n\u001b[0;32m----> 3\u001b[0;31m \u001b[0ms1\u001b[0m\u001b[0;34m.\u001b[0m\u001b[0mcontains\u001b[0m\u001b[0;34m(\u001b[0m\u001b[0ms2\u001b[0m\u001b[0;34m)\u001b[0m\u001b[0;34m\u001b[0m\u001b[0;34m\u001b[0m\u001b[0m\n\u001b[0m",
      "\u001b[0;31mAttributeError\u001b[0m: 'str' object has no attribute 'contains'"
     ]
    }
   ],
   "source": [
    "s1 = 'dfgr'\n",
    "s2 = 'df'\n",
    "s1.contains(s2)"
   ]
  },
  {
   "cell_type": "code",
   "execution_count": 8,
   "id": "c41ef4e4",
   "metadata": {},
   "outputs": [
    {
     "ename": "TypeError",
     "evalue": "'float' object cannot be interpreted as an integer",
     "output_type": "error",
     "traceback": [
      "\u001b[0;31m---------------------------------------------------------------------------\u001b[0m",
      "\u001b[0;31mTypeError\u001b[0m                                 Traceback (most recent call last)",
      "\u001b[0;32m/var/folders/hr/84gg3m1s6y75pg48fs4msrvw0000gn/T/ipykernel_75937/338010298.py\u001b[0m in \u001b[0;36m<module>\u001b[0;34m\u001b[0m\n\u001b[0;32m----> 1\u001b[0;31m \u001b[0;32mfor\u001b[0m \u001b[0mi\u001b[0m \u001b[0;32min\u001b[0m \u001b[0mrange\u001b[0m\u001b[0;34m(\u001b[0m\u001b[0;36m2.0\u001b[0m\u001b[0;34m)\u001b[0m\u001b[0;34m:\u001b[0m\u001b[0;34m\u001b[0m\u001b[0;34m\u001b[0m\u001b[0m\n\u001b[0m\u001b[1;32m      2\u001b[0m     \u001b[0mprint\u001b[0m\u001b[0;34m(\u001b[0m\u001b[0mi\u001b[0m\u001b[0;34m)\u001b[0m\u001b[0;34m\u001b[0m\u001b[0;34m\u001b[0m\u001b[0m\n",
      "\u001b[0;31mTypeError\u001b[0m: 'float' object cannot be interpreted as an integer"
     ]
    }
   ],
   "source": [
    "for i in range(2.0):\n",
    "    print(i)"
   ]
  },
  {
   "cell_type": "code",
   "execution_count": 9,
   "id": "cc658e5b",
   "metadata": {},
   "outputs": [
    {
     "name": "stdout",
     "output_type": "stream",
     "text": [
      "(2, 3, 2, 3)\n"
     ]
    }
   ],
   "source": [
    "print(2*(2,3))"
   ]
  },
  {
   "cell_type": "code",
   "execution_count": 11,
   "id": "1f33e2a1",
   "metadata": {},
   "outputs": [
    {
     "name": "stdout",
     "output_type": "stream",
     "text": [
      "12345678"
     ]
    }
   ],
   "source": [
    "for i in [[1,2,3,4],[5,6,7,8]]:\n",
    "    i.sort()\n",
    "    for j in i:\n",
    "        print(j,end='')"
   ]
  },
  {
   "cell_type": "code",
   "execution_count": 12,
   "id": "b271e069",
   "metadata": {},
   "outputs": [
    {
     "name": "stdout",
     "output_type": "stream",
     "text": [
      "False\n"
     ]
    }
   ],
   "source": [
    "a = [1,2,3]\n",
    "b = a.copy()\n",
    "print(b is a)"
   ]
  },
  {
   "cell_type": "code",
   "execution_count": 15,
   "id": "e5e6c7b4",
   "metadata": {},
   "outputs": [
    {
     "ename": "TypeError",
     "evalue": "not all arguments converted during string formatting",
     "output_type": "error",
     "traceback": [
      "\u001b[0;31m---------------------------------------------------------------------------\u001b[0m",
      "\u001b[0;31mTypeError\u001b[0m                                 Traceback (most recent call last)",
      "\u001b[0;32m/var/folders/hr/84gg3m1s6y75pg48fs4msrvw0000gn/T/ipykernel_75937/445589484.py\u001b[0m in \u001b[0;36m<module>\u001b[0;34m\u001b[0m\n\u001b[1;32m      1\u001b[0m \u001b[0mX\u001b[0m\u001b[0;34m=\u001b[0m \u001b[0;34m'hi'\u001b[0m\u001b[0;34m\u001b[0m\u001b[0;34m\u001b[0m\u001b[0m\n\u001b[0;32m----> 2\u001b[0;31m \u001b[0mprint\u001b[0m\u001b[0;34m(\u001b[0m\u001b[0;34m'05d'\u001b[0m\u001b[0;34m%\u001b[0m\u001b[0mX\u001b[0m\u001b[0;34m)\u001b[0m\u001b[0;34m\u001b[0m\u001b[0;34m\u001b[0m\u001b[0m\n\u001b[0m",
      "\u001b[0;31mTypeError\u001b[0m: not all arguments converted during string formatting"
     ]
    }
   ],
   "source": [
    "X= 'hi'\n",
    "print('05d'%X)"
   ]
  },
  {
   "cell_type": "code",
   "execution_count": null,
   "id": "ce7354c1",
   "metadata": {},
   "outputs": [],
   "source": []
  }
 ],
 "metadata": {
  "kernelspec": {
   "display_name": "Python 3 (ipykernel)",
   "language": "python",
   "name": "python3"
  },
  "language_info": {
   "codemirror_mode": {
    "name": "ipython",
    "version": 3
   },
   "file_extension": ".py",
   "mimetype": "text/x-python",
   "name": "python",
   "nbconvert_exporter": "python",
   "pygments_lexer": "ipython3",
   "version": "3.8.8"
  }
 },
 "nbformat": 4,
 "nbformat_minor": 5
}
