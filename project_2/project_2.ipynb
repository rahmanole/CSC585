{
 "cells": [
  {
   "cell_type": "code",
   "execution_count": 752,
   "id": "d8cd9e2d",
   "metadata": {},
   "outputs": [],
   "source": [
    "import numpy as np\n",
    "import geopandas as  gpd\n",
    "import matplotlib.pyplot as plt\n",
    "import pandas as pd"
   ]
  },
  {
   "cell_type": "code",
   "execution_count": 753,
   "id": "3cbd2ef6",
   "metadata": {},
   "outputs": [],
   "source": [
    "counties_gdf = gpd.read_file('cb_2018_us_county_500k/cb_2018_us_county_500k.shp')\n",
    "cities_gdf = gpd.read_file('cities/citiesx010g.shp')"
   ]
  },
  {
   "cell_type": "code",
   "execution_count": 754,
   "id": "b9096baf",
   "metadata": {},
   "outputs": [
    {
     "data": {
      "text/html": [
       "<div>\n",
       "<style scoped>\n",
       "    .dataframe tbody tr th:only-of-type {\n",
       "        vertical-align: middle;\n",
       "    }\n",
       "\n",
       "    .dataframe tbody tr th {\n",
       "        vertical-align: top;\n",
       "    }\n",
       "\n",
       "    .dataframe thead th {\n",
       "        text-align: right;\n",
       "    }\n",
       "</style>\n",
       "<table border=\"1\" class=\"dataframe\">\n",
       "  <thead>\n",
       "    <tr style=\"text-align: right;\">\n",
       "      <th></th>\n",
       "      <th>STATEFP</th>\n",
       "      <th>COUNTYFP</th>\n",
       "      <th>COUNTYNS</th>\n",
       "      <th>AFFGEOID</th>\n",
       "      <th>GEOID</th>\n",
       "      <th>NAME</th>\n",
       "      <th>LSAD</th>\n",
       "      <th>ALAND</th>\n",
       "      <th>AWATER</th>\n",
       "      <th>geometry</th>\n",
       "    </tr>\n",
       "  </thead>\n",
       "  <tbody>\n",
       "    <tr>\n",
       "      <th>0</th>\n",
       "      <td>21</td>\n",
       "      <td>007</td>\n",
       "      <td>00516850</td>\n",
       "      <td>0500000US21007</td>\n",
       "      <td>21007</td>\n",
       "      <td>Ballard</td>\n",
       "      <td>06</td>\n",
       "      <td>639387454</td>\n",
       "      <td>69473325</td>\n",
       "      <td>POLYGON ((-89.18137 37.04630, -89.17938 37.053...</td>\n",
       "    </tr>\n",
       "    <tr>\n",
       "      <th>1</th>\n",
       "      <td>21</td>\n",
       "      <td>017</td>\n",
       "      <td>00516855</td>\n",
       "      <td>0500000US21017</td>\n",
       "      <td>21017</td>\n",
       "      <td>Bourbon</td>\n",
       "      <td>06</td>\n",
       "      <td>750439351</td>\n",
       "      <td>4829777</td>\n",
       "      <td>POLYGON ((-84.44266 38.28324, -84.44114 38.283...</td>\n",
       "    </tr>\n",
       "    <tr>\n",
       "      <th>2</th>\n",
       "      <td>21</td>\n",
       "      <td>031</td>\n",
       "      <td>00516862</td>\n",
       "      <td>0500000US21031</td>\n",
       "      <td>21031</td>\n",
       "      <td>Butler</td>\n",
       "      <td>06</td>\n",
       "      <td>1103571974</td>\n",
       "      <td>13943044</td>\n",
       "      <td>POLYGON ((-86.94486 37.07341, -86.94346 37.074...</td>\n",
       "    </tr>\n",
       "    <tr>\n",
       "      <th>3</th>\n",
       "      <td>21</td>\n",
       "      <td>065</td>\n",
       "      <td>00516879</td>\n",
       "      <td>0500000US21065</td>\n",
       "      <td>21065</td>\n",
       "      <td>Estill</td>\n",
       "      <td>06</td>\n",
       "      <td>655509930</td>\n",
       "      <td>6516335</td>\n",
       "      <td>POLYGON ((-84.12662 37.64540, -84.12483 37.646...</td>\n",
       "    </tr>\n",
       "    <tr>\n",
       "      <th>4</th>\n",
       "      <td>21</td>\n",
       "      <td>069</td>\n",
       "      <td>00516881</td>\n",
       "      <td>0500000US21069</td>\n",
       "      <td>21069</td>\n",
       "      <td>Fleming</td>\n",
       "      <td>06</td>\n",
       "      <td>902727151</td>\n",
       "      <td>7182793</td>\n",
       "      <td>POLYGON ((-83.98428 38.44549, -83.98246 38.450...</td>\n",
       "    </tr>\n",
       "  </tbody>\n",
       "</table>\n",
       "</div>"
      ],
      "text/plain": [
       "  STATEFP COUNTYFP  COUNTYNS        AFFGEOID  GEOID     NAME LSAD       ALAND  \\\n",
       "0      21      007  00516850  0500000US21007  21007  Ballard   06   639387454   \n",
       "1      21      017  00516855  0500000US21017  21017  Bourbon   06   750439351   \n",
       "2      21      031  00516862  0500000US21031  21031   Butler   06  1103571974   \n",
       "3      21      065  00516879  0500000US21065  21065   Estill   06   655509930   \n",
       "4      21      069  00516881  0500000US21069  21069  Fleming   06   902727151   \n",
       "\n",
       "     AWATER                                           geometry  \n",
       "0  69473325  POLYGON ((-89.18137 37.04630, -89.17938 37.053...  \n",
       "1   4829777  POLYGON ((-84.44266 38.28324, -84.44114 38.283...  \n",
       "2  13943044  POLYGON ((-86.94486 37.07341, -86.94346 37.074...  \n",
       "3   6516335  POLYGON ((-84.12662 37.64540, -84.12483 37.646...  \n",
       "4   7182793  POLYGON ((-83.98428 38.44549, -83.98246 38.450...  "
      ]
     },
     "execution_count": 754,
     "metadata": {},
     "output_type": "execute_result"
    }
   ],
   "source": [
    "counties_gdf.head()"
   ]
  },
  {
   "cell_type": "code",
   "execution_count": 755,
   "id": "0fb5b581",
   "metadata": {
    "scrolled": false
   },
   "outputs": [
    {
     "data": {
      "text/plain": [
       "GNIS_ID        float64\n",
       "ANSICODE        object\n",
       "FEATURE         object\n",
       "FEATURE2        object\n",
       "NAME            object\n",
       "POP_2010       float64\n",
       "COUNTY          object\n",
       "COUNTYFIPS      object\n",
       "STATE           object\n",
       "STATE_FIPS      object\n",
       "LATITUDE       float64\n",
       "LONGITUDE      float64\n",
       "PopPlLat       float64\n",
       "PopPlLong      float64\n",
       "ELEV_IN_M      float64\n",
       "ELEV_IN_FT     float64\n",
       "geometry      geometry\n",
       "dtype: object"
      ]
     },
     "execution_count": 755,
     "metadata": {},
     "output_type": "execute_result"
    }
   ],
   "source": [
    "cities_gdf.dtypes"
   ]
  },
  {
   "cell_type": "markdown",
   "id": "4eeb10f1",
   "metadata": {},
   "source": [
    "# Part: Load and prepare the geopandas dataframes"
   ]
  },
  {
   "cell_type": "code",
   "execution_count": 756,
   "id": "94979a81",
   "metadata": {
    "scrolled": false
   },
   "outputs": [
    {
     "data": {
      "text/html": [
       "<div>\n",
       "<style scoped>\n",
       "    .dataframe tbody tr th:only-of-type {\n",
       "        vertical-align: middle;\n",
       "    }\n",
       "\n",
       "    .dataframe tbody tr th {\n",
       "        vertical-align: top;\n",
       "    }\n",
       "\n",
       "    .dataframe thead th {\n",
       "        text-align: right;\n",
       "    }\n",
       "</style>\n",
       "<table border=\"1\" class=\"dataframe\">\n",
       "  <thead>\n",
       "    <tr style=\"text-align: right;\">\n",
       "      <th></th>\n",
       "      <th>GNIS_ID</th>\n",
       "      <th>ANSICODE</th>\n",
       "      <th>FEATURE</th>\n",
       "      <th>FEATURE2</th>\n",
       "      <th>NAME</th>\n",
       "      <th>POP_2010</th>\n",
       "      <th>COUNTY</th>\n",
       "      <th>COUNTYFIPS</th>\n",
       "      <th>STATE</th>\n",
       "      <th>STATE_FIPS</th>\n",
       "      <th>LATITUDE</th>\n",
       "      <th>LONGITUDE</th>\n",
       "      <th>PopPlLat</th>\n",
       "      <th>PopPlLong</th>\n",
       "      <th>ELEV_IN_M</th>\n",
       "      <th>ELEV_IN_FT</th>\n",
       "      <th>geometry</th>\n",
       "    </tr>\n",
       "  </thead>\n",
       "  <tbody>\n",
       "    <tr>\n",
       "      <th>191</th>\n",
       "      <td>644967.0</td>\n",
       "      <td>664474</td>\n",
       "      <td>Civil</td>\n",
       "      <td>-999</td>\n",
       "      <td>Hill City</td>\n",
       "      <td>633.0</td>\n",
       "      <td>Aitkin</td>\n",
       "      <td>001</td>\n",
       "      <td>MN</td>\n",
       "      <td>27</td>\n",
       "      <td>46.993285</td>\n",
       "      <td>-93.598562</td>\n",
       "      <td>46.993285</td>\n",
       "      <td>-93.598562</td>\n",
       "      <td>408.0</td>\n",
       "      <td>1339.0</td>\n",
       "      <td>POINT (-93.59856 46.99328)</td>\n",
       "    </tr>\n",
       "    <tr>\n",
       "      <th>237</th>\n",
       "      <td>649445.0</td>\n",
       "      <td>665301</td>\n",
       "      <td>Civil</td>\n",
       "      <td>County Seat</td>\n",
       "      <td>Pine City</td>\n",
       "      <td>3123.0</td>\n",
       "      <td>Pine</td>\n",
       "      <td>115</td>\n",
       "      <td>MN</td>\n",
       "      <td>27</td>\n",
       "      <td>45.826067</td>\n",
       "      <td>-92.968542</td>\n",
       "      <td>45.826067</td>\n",
       "      <td>-92.968542</td>\n",
       "      <td>290.0</td>\n",
       "      <td>951.0</td>\n",
       "      <td>POINT (-92.96854 45.82607)</td>\n",
       "    </tr>\n",
       "    <tr>\n",
       "      <th>260</th>\n",
       "      <td>1256558.0</td>\n",
       "      <td>1267485</td>\n",
       "      <td>Civil</td>\n",
       "      <td>County Seat</td>\n",
       "      <td>Mound City</td>\n",
       "      <td>71.0</td>\n",
       "      <td>Campbell</td>\n",
       "      <td>021</td>\n",
       "      <td>SD</td>\n",
       "      <td>46</td>\n",
       "      <td>45.725270</td>\n",
       "      <td>-100.068452</td>\n",
       "      <td>45.725270</td>\n",
       "      <td>-100.068452</td>\n",
       "      <td>525.0</td>\n",
       "      <td>1722.0</td>\n",
       "      <td>POINT (-100.06845 45.72527)</td>\n",
       "    </tr>\n",
       "    <tr>\n",
       "      <th>261</th>\n",
       "      <td>1254373.0</td>\n",
       "      <td>1267329</td>\n",
       "      <td>Civil</td>\n",
       "      <td>-999</td>\n",
       "      <td>Claremont</td>\n",
       "      <td>127.0</td>\n",
       "      <td>Brown</td>\n",
       "      <td>013</td>\n",
       "      <td>SD</td>\n",
       "      <td>46</td>\n",
       "      <td>45.671898</td>\n",
       "      <td>-98.015660</td>\n",
       "      <td>45.671898</td>\n",
       "      <td>-98.015660</td>\n",
       "      <td>397.0</td>\n",
       "      <td>1302.0</td>\n",
       "      <td>POINT (-98.01566 45.67190)</td>\n",
       "    </tr>\n",
       "    <tr>\n",
       "      <th>262</th>\n",
       "      <td>1265162.0</td>\n",
       "      <td>1267335</td>\n",
       "      <td>Civil</td>\n",
       "      <td>-999</td>\n",
       "      <td>Columbia</td>\n",
       "      <td>136.0</td>\n",
       "      <td>Brown</td>\n",
       "      <td>013</td>\n",
       "      <td>SD</td>\n",
       "      <td>46</td>\n",
       "      <td>45.613024</td>\n",
       "      <td>-98.312598</td>\n",
       "      <td>45.613024</td>\n",
       "      <td>-98.312598</td>\n",
       "      <td>397.0</td>\n",
       "      <td>1302.0</td>\n",
       "      <td>POINT (-98.31260 45.61302)</td>\n",
       "    </tr>\n",
       "  </tbody>\n",
       "</table>\n",
       "</div>"
      ],
      "text/plain": [
       "       GNIS_ID ANSICODE FEATURE     FEATURE2        NAME  POP_2010    COUNTY  \\\n",
       "191   644967.0   664474   Civil         -999   Hill City     633.0    Aitkin   \n",
       "237   649445.0   665301   Civil  County Seat   Pine City    3123.0      Pine   \n",
       "260  1256558.0  1267485   Civil  County Seat  Mound City      71.0  Campbell   \n",
       "261  1254373.0  1267329   Civil         -999   Claremont     127.0     Brown   \n",
       "262  1265162.0  1267335   Civil         -999    Columbia     136.0     Brown   \n",
       "\n",
       "    COUNTYFIPS STATE STATE_FIPS   LATITUDE   LONGITUDE   PopPlLat   PopPlLong  \\\n",
       "191        001    MN         27  46.993285  -93.598562  46.993285  -93.598562   \n",
       "237        115    MN         27  45.826067  -92.968542  45.826067  -92.968542   \n",
       "260        021    SD         46  45.725270 -100.068452  45.725270 -100.068452   \n",
       "261        013    SD         46  45.671898  -98.015660  45.671898  -98.015660   \n",
       "262        013    SD         46  45.613024  -98.312598  45.613024  -98.312598   \n",
       "\n",
       "     ELEV_IN_M  ELEV_IN_FT                     geometry  \n",
       "191      408.0      1339.0   POINT (-93.59856 46.99328)  \n",
       "237      290.0       951.0   POINT (-92.96854 45.82607)  \n",
       "260      525.0      1722.0  POINT (-100.06845 45.72527)  \n",
       "261      397.0      1302.0   POINT (-98.01566 45.67190)  \n",
       "262      397.0      1302.0   POINT (-98.31260 45.61302)  "
      ]
     },
     "execution_count": 756,
     "metadata": {},
     "output_type": "execute_result"
    }
   ],
   "source": [
    "cities_gdf_final = cities_gdf.loc[cities_df['STATE'].isin(['IA', 'SD', 'IL', 'MN','IN'])]\n",
    "cities_gdf_final.head()"
   ]
  },
  {
   "cell_type": "code",
   "execution_count": 757,
   "id": "cae9b5eb",
   "metadata": {},
   "outputs": [],
   "source": [
    "cities_gdf_final = cities_gdf_final.drop(['COUNTY', 'COUNTYFIPS'],axis=1)\n",
    "cities_gdf_final = cities_gdf_final.loc[cities_gdf_final.FEATURE == 'Civil']"
   ]
  },
  {
   "cell_type": "code",
   "execution_count": 758,
   "id": "110f8b57",
   "metadata": {
    "scrolled": false
   },
   "outputs": [
    {
     "data": {
      "text/plain": [
       "3971"
      ]
     },
     "execution_count": 758,
     "metadata": {},
     "output_type": "execute_result"
    }
   ],
   "source": [
    "cities_df_final.head()\n",
    "len(cities_df_final)"
   ]
  },
  {
   "cell_type": "code",
   "execution_count": 759,
   "id": "eea23eb9",
   "metadata": {
    "scrolled": true
   },
   "outputs": [
    {
     "data": {
      "text/html": [
       "<div>\n",
       "<style scoped>\n",
       "    .dataframe tbody tr th:only-of-type {\n",
       "        vertical-align: middle;\n",
       "    }\n",
       "\n",
       "    .dataframe tbody tr th {\n",
       "        vertical-align: top;\n",
       "    }\n",
       "\n",
       "    .dataframe thead th {\n",
       "        text-align: right;\n",
       "    }\n",
       "</style>\n",
       "<table border=\"1\" class=\"dataframe\">\n",
       "  <thead>\n",
       "    <tr style=\"text-align: right;\">\n",
       "      <th></th>\n",
       "      <th>STATEFP</th>\n",
       "      <th>COUNTYFP</th>\n",
       "      <th>COUNTYNS</th>\n",
       "      <th>AFFGEOID</th>\n",
       "      <th>GEOID</th>\n",
       "      <th>NAME</th>\n",
       "      <th>LSAD</th>\n",
       "      <th>ALAND</th>\n",
       "      <th>AWATER</th>\n",
       "      <th>geometry</th>\n",
       "      <th>area</th>\n",
       "    </tr>\n",
       "  </thead>\n",
       "  <tbody>\n",
       "    <tr>\n",
       "      <th>11</th>\n",
       "      <td>17</td>\n",
       "      <td>091</td>\n",
       "      <td>00424247</td>\n",
       "      <td>0500000US17091</td>\n",
       "      <td>17091</td>\n",
       "      <td>Kankakee</td>\n",
       "      <td>06</td>\n",
       "      <td>1752121058</td>\n",
       "      <td>12440760</td>\n",
       "      <td>POLYGON ((-88.25150 41.11422, -88.24089 41.114...</td>\n",
       "      <td>2.344934e+09</td>\n",
       "    </tr>\n",
       "    <tr>\n",
       "      <th>12</th>\n",
       "      <td>17</td>\n",
       "      <td>187</td>\n",
       "      <td>01785134</td>\n",
       "      <td>0500000US17187</td>\n",
       "      <td>17187</td>\n",
       "      <td>Warren</td>\n",
       "      <td>06</td>\n",
       "      <td>1404747944</td>\n",
       "      <td>1674135</td>\n",
       "      <td>POLYGON ((-90.78965 40.63685, -90.78956 40.642...</td>\n",
       "      <td>1.860974e+09</td>\n",
       "    </tr>\n",
       "    <tr>\n",
       "      <th>13</th>\n",
       "      <td>17</td>\n",
       "      <td>197</td>\n",
       "      <td>01785190</td>\n",
       "      <td>0500000US17197</td>\n",
       "      <td>17197</td>\n",
       "      <td>Will</td>\n",
       "      <td>06</td>\n",
       "      <td>2164927644</td>\n",
       "      <td>34548925</td>\n",
       "      <td>POLYGON ((-88.26127 41.72466, -88.25477 41.724...</td>\n",
       "      <td>2.936824e+09</td>\n",
       "    </tr>\n",
       "    <tr>\n",
       "      <th>14</th>\n",
       "      <td>18</td>\n",
       "      <td>027</td>\n",
       "      <td>00450343</td>\n",
       "      <td>0500000US18027</td>\n",
       "      <td>18027</td>\n",
       "      <td>Daviess</td>\n",
       "      <td>06</td>\n",
       "      <td>1112374406</td>\n",
       "      <td>19124393</td>\n",
       "      <td>POLYGON ((-87.27917 38.69394, -87.27262 38.696...</td>\n",
       "      <td>1.451989e+09</td>\n",
       "    </tr>\n",
       "    <tr>\n",
       "      <th>15</th>\n",
       "      <td>18</td>\n",
       "      <td>061</td>\n",
       "      <td>00451677</td>\n",
       "      <td>0500000US18061</td>\n",
       "      <td>18061</td>\n",
       "      <td>Harrison</td>\n",
       "      <td>06</td>\n",
       "      <td>1254889433</td>\n",
       "      <td>5193186</td>\n",
       "      <td>POLYGON ((-86.32768 38.18274, -86.32441 38.182...</td>\n",
       "      <td>1.606033e+09</td>\n",
       "    </tr>\n",
       "  </tbody>\n",
       "</table>\n",
       "</div>"
      ],
      "text/plain": [
       "   STATEFP COUNTYFP  COUNTYNS        AFFGEOID  GEOID      NAME LSAD  \\\n",
       "11      17      091  00424247  0500000US17091  17091  Kankakee   06   \n",
       "12      17      187  01785134  0500000US17187  17187    Warren   06   \n",
       "13      17      197  01785190  0500000US17197  17197      Will   06   \n",
       "14      18      027  00450343  0500000US18027  18027   Daviess   06   \n",
       "15      18      061  00451677  0500000US18061  18061  Harrison   06   \n",
       "\n",
       "         ALAND    AWATER                                           geometry  \\\n",
       "11  1752121058  12440760  POLYGON ((-88.25150 41.11422, -88.24089 41.114...   \n",
       "12  1404747944   1674135  POLYGON ((-90.78965 40.63685, -90.78956 40.642...   \n",
       "13  2164927644  34548925  POLYGON ((-88.26127 41.72466, -88.25477 41.724...   \n",
       "14  1112374406  19124393  POLYGON ((-87.27917 38.69394, -87.27262 38.696...   \n",
       "15  1254889433   5193186  POLYGON ((-86.32768 38.18274, -86.32441 38.182...   \n",
       "\n",
       "            area  \n",
       "11  2.344934e+09  \n",
       "12  1.860974e+09  \n",
       "13  2.936824e+09  \n",
       "14  1.451989e+09  \n",
       "15  1.606033e+09  "
      ]
     },
     "execution_count": 759,
     "metadata": {},
     "output_type": "execute_result"
    }
   ],
   "source": [
    "# Counties data only for ['IA', 'SD', 'IL', 'MN','IN']\n",
    "\n",
    "# This code finds out fips for that 5 cities\n",
    "fips_for_five_cities = cities_df_final.STATE_FIPS.unique()\n",
    "\n",
    "#counties data for that 5 cities\n",
    "counties_gdf_final = counties_df.loc[counties_df.STATEFP.isin(list(fips_for_five_cities))]\n",
    "counties_gdf_final.head()"
   ]
  },
  {
   "cell_type": "markdown",
   "id": "54c5eb52",
   "metadata": {},
   "source": [
    "# Part: compute the area of each county"
   ]
  },
  {
   "cell_type": "code",
   "execution_count": 760,
   "id": "9e9d1c04",
   "metadata": {
    "scrolled": true
   },
   "outputs": [],
   "source": [
    "counties_projeted_gdf = counties_gdf_final.copy()\n",
    "counties_projeted_gdf['geometry'] = counties_projeted_gdf.geometry.to_crs('epsg:4087')\n",
    "counties_projeted_gdf['area'] = counties_projeted_gdf.area"
   ]
  },
  {
   "cell_type": "markdown",
   "id": "26ce4605",
   "metadata": {},
   "source": [
    "# Part: inspect the projected and unprojected county geometry"
   ]
  },
  {
   "cell_type": "code",
   "execution_count": 761,
   "id": "07df45e1",
   "metadata": {},
   "outputs": [],
   "source": [
    "STATE_FIPS_IA = cities_df.loc[cities_gdf.STATE == 'IA','STATE_FIPS'].unique()[0]"
   ]
  },
  {
   "cell_type": "code",
   "execution_count": 762,
   "id": "1623f445",
   "metadata": {},
   "outputs": [
    {
     "data": {
      "text/html": [
       "<div>\n",
       "<style scoped>\n",
       "    .dataframe tbody tr th:only-of-type {\n",
       "        vertical-align: middle;\n",
       "    }\n",
       "\n",
       "    .dataframe tbody tr th {\n",
       "        vertical-align: top;\n",
       "    }\n",
       "\n",
       "    .dataframe thead th {\n",
       "        text-align: right;\n",
       "    }\n",
       "</style>\n",
       "<table border=\"1\" class=\"dataframe\">\n",
       "  <thead>\n",
       "    <tr style=\"text-align: right;\">\n",
       "      <th></th>\n",
       "      <th>STATEFP</th>\n",
       "      <th>COUNTYFP</th>\n",
       "      <th>COUNTYNS</th>\n",
       "      <th>AFFGEOID</th>\n",
       "      <th>GEOID</th>\n",
       "      <th>NAME</th>\n",
       "      <th>LSAD</th>\n",
       "      <th>ALAND</th>\n",
       "      <th>AWATER</th>\n",
       "      <th>geometry</th>\n",
       "      <th>area</th>\n",
       "    </tr>\n",
       "  </thead>\n",
       "  <tbody>\n",
       "    <tr>\n",
       "      <th>97</th>\n",
       "      <td>19</td>\n",
       "      <td>175</td>\n",
       "      <td>00465276</td>\n",
       "      <td>0500000US19175</td>\n",
       "      <td>19175</td>\n",
       "      <td>Union</td>\n",
       "      <td>06</td>\n",
       "      <td>1097235806</td>\n",
       "      <td>5575853</td>\n",
       "      <td>POLYGON ((-94.47101 41.04705, -94.47075 41.057...</td>\n",
       "      <td>1.463037e+09</td>\n",
       "    </tr>\n",
       "    <tr>\n",
       "      <th>148</th>\n",
       "      <td>19</td>\n",
       "      <td>001</td>\n",
       "      <td>00465190</td>\n",
       "      <td>0500000US19001</td>\n",
       "      <td>19001</td>\n",
       "      <td>Adair</td>\n",
       "      <td>06</td>\n",
       "      <td>1474404193</td>\n",
       "      <td>2597996</td>\n",
       "      <td>POLYGON ((-94.70072 41.46725, -94.70057 41.482...</td>\n",
       "      <td>1.968695e+09</td>\n",
       "    </tr>\n",
       "    <tr>\n",
       "      <th>149</th>\n",
       "      <td>19</td>\n",
       "      <td>045</td>\n",
       "      <td>00465211</td>\n",
       "      <td>0500000US19045</td>\n",
       "      <td>19045</td>\n",
       "      <td>Clinton</td>\n",
       "      <td>06</td>\n",
       "      <td>1799818638</td>\n",
       "      <td>39526958</td>\n",
       "      <td>POLYGON ((-90.89894 41.91853, -90.89807 41.920...</td>\n",
       "      <td>2.473108e+09</td>\n",
       "    </tr>\n",
       "    <tr>\n",
       "      <th>150</th>\n",
       "      <td>19</td>\n",
       "      <td>083</td>\n",
       "      <td>00465230</td>\n",
       "      <td>0500000US19083</td>\n",
       "      <td>19083</td>\n",
       "      <td>Hardin</td>\n",
       "      <td>06</td>\n",
       "      <td>1474505075</td>\n",
       "      <td>1776735</td>\n",
       "      <td>POLYGON ((-93.49948 42.55770, -93.48076 42.557...</td>\n",
       "      <td>1.999792e+09</td>\n",
       "    </tr>\n",
       "    <tr>\n",
       "      <th>151</th>\n",
       "      <td>19</td>\n",
       "      <td>111</td>\n",
       "      <td>00465244</td>\n",
       "      <td>0500000US19111</td>\n",
       "      <td>19111</td>\n",
       "      <td>Lee</td>\n",
       "      <td>06</td>\n",
       "      <td>1340448548</td>\n",
       "      <td>55266733</td>\n",
       "      <td>POLYGON ((-91.71879 40.81354, -91.68010 40.813...</td>\n",
       "      <td>1.840938e+09</td>\n",
       "    </tr>\n",
       "  </tbody>\n",
       "</table>\n",
       "</div>"
      ],
      "text/plain": [
       "    STATEFP COUNTYFP  COUNTYNS        AFFGEOID  GEOID     NAME LSAD  \\\n",
       "97       19      175  00465276  0500000US19175  19175    Union   06   \n",
       "148      19      001  00465190  0500000US19001  19001    Adair   06   \n",
       "149      19      045  00465211  0500000US19045  19045  Clinton   06   \n",
       "150      19      083  00465230  0500000US19083  19083   Hardin   06   \n",
       "151      19      111  00465244  0500000US19111  19111      Lee   06   \n",
       "\n",
       "          ALAND    AWATER                                           geometry  \\\n",
       "97   1097235806   5575853  POLYGON ((-94.47101 41.04705, -94.47075 41.057...   \n",
       "148  1474404193   2597996  POLYGON ((-94.70072 41.46725, -94.70057 41.482...   \n",
       "149  1799818638  39526958  POLYGON ((-90.89894 41.91853, -90.89807 41.920...   \n",
       "150  1474505075   1776735  POLYGON ((-93.49948 42.55770, -93.48076 42.557...   \n",
       "151  1340448548  55266733  POLYGON ((-91.71879 40.81354, -91.68010 40.813...   \n",
       "\n",
       "             area  \n",
       "97   1.463037e+09  \n",
       "148  1.968695e+09  \n",
       "149  2.473108e+09  \n",
       "150  1.999792e+09  \n",
       "151  1.840938e+09  "
      ]
     },
     "execution_count": 762,
     "metadata": {},
     "output_type": "execute_result"
    }
   ],
   "source": [
    "unprojected_counties_IA = counties_gdf_final.loc[counties_gdf_final.STATEFP==STATE_FIPS_IA]\n",
    "unprojected_counties_IA.head()"
   ]
  },
  {
   "cell_type": "code",
   "execution_count": 763,
   "id": "a08d8dc0",
   "metadata": {},
   "outputs": [
    {
     "data": {
      "text/plain": [
       "<AxesSubplot:>"
      ]
     },
     "execution_count": 763,
     "metadata": {},
     "output_type": "execute_result"
    },
    {
     "data": {
      "image/png": "[encoded data removed]",
      "text/plain": [
       "<Figure size 432x288 with 1 Axes>"
      ]
     },
     "metadata": {
      "needs_background": "light"
     },
     "output_type": "display_data"
    }
   ],
   "source": [
    "unprojected_counties_IA.plot()"
   ]
  },
  {
   "cell_type": "code",
   "execution_count": 764,
   "id": "1f3974fc",
   "metadata": {
    "scrolled": true
   },
   "outputs": [
    {
     "data": {
      "text/plain": [
       "<AxesSubplot:>"
      ]
     },
     "execution_count": 764,
     "metadata": {},
     "output_type": "execute_result"
    },
    {
     "data": {
      "image/png": "[encoded data removed]",
      "text/plain": [
       "<Figure size 432x288 with 1 Axes>"
      ]
     },
     "metadata": {
      "needs_background": "light"
     },
     "output_type": "display_data"
    }
   ],
   "source": [
    "projected_counties_IA = counties_projeted_gdf.loc[counties_projeted_gdf.STATEFP==STATE_FIPS_IA]\n",
    "projected_counties_IA.loc[counties_projeted_gdf.STATEFP==STATE_FIPS_IA].plot()"
   ]
  },
  {
   "cell_type": "code",
   "execution_count": 765,
   "id": "508259cd",
   "metadata": {},
   "outputs": [],
   "source": [
    "projected_counties_IA = projected_counties_IA.copy() \n",
    "projected_counties_IA['AREA'] = projected_counties_IA.geometry.area"
   ]
  },
  {
   "cell_type": "markdown",
   "id": "7483e4bb",
   "metadata": {},
   "source": [
    "# Part:Use a spatial join to determine which county each city belongs to."
   ]
  },
  {
   "cell_type": "code",
   "execution_count": 766,
   "id": "0c1c9e74",
   "metadata": {},
   "outputs": [
    {
     "data": {
      "text/plain": [
       "3971"
      ]
     },
     "execution_count": 766,
     "metadata": {},
     "output_type": "execute_result"
    }
   ],
   "source": [
    "joined_gdf = gpd.tools.sjoin(cities_gdf_final,counties_gdf_final,how='inner')\n",
    "joined_gdf.head()\n",
    "len(joined_gdf)"
   ]
  },
  {
   "cell_type": "code",
   "execution_count": 767,
   "id": "31120317",
   "metadata": {},
   "outputs": [],
   "source": [
    "# Converting geopandas datafrme to pandas dataframe\n",
    "joined_df = pd.DataFrame(joined_gdf)"
   ]
  },
  {
   "cell_type": "markdown",
   "id": "840b9bec",
   "metadata": {},
   "source": [
    "## Top 5 cities based on population"
   ]
  },
  {
   "cell_type": "code",
   "execution_count": 768,
   "id": "8133494c",
   "metadata": {
    "scrolled": true
   },
   "outputs": [
    {
     "data": {
      "text/plain": [
       "494           Chicago\n",
       "37395    Indianapolis\n",
       "7830      Minneapolis\n",
       "8940       Saint Paul\n",
       "8261       Fort Wayne\n",
       "Name: NAME_left, dtype: object"
      ]
     },
     "execution_count": 768,
     "metadata": {},
     "output_type": "execute_result"
    }
   ],
   "source": [
    "joined_df.sort_values(by='POP_2010',ascending=False).NAME_left[0:5]"
   ]
  },
  {
   "cell_type": "markdown",
   "id": "ba6aa483",
   "metadata": {},
   "source": [
    "# People per sq meter in each county"
   ]
  },
  {
   "cell_type": "code",
   "execution_count": 769,
   "id": "6d6d87cc",
   "metadata": {},
   "outputs": [
    {
     "data": {
      "text/plain": [
       "446"
      ]
     },
     "execution_count": 769,
     "metadata": {},
     "output_type": "execute_result"
    }
   ],
   "source": [
    "area = counties_projeted_gdf.groupby(['STATEFP','NAME']).sum().area\n",
    "len(area)"
   ]
  },
  {
   "cell_type": "code",
   "execution_count": 770,
   "id": "fee33189",
   "metadata": {},
   "outputs": [
    {
     "data": {
      "text/html": [
       "<div>\n",
       "<style scoped>\n",
       "    .dataframe tbody tr th:only-of-type {\n",
       "        vertical-align: middle;\n",
       "    }\n",
       "\n",
       "    .dataframe tbody tr th {\n",
       "        vertical-align: top;\n",
       "    }\n",
       "\n",
       "    .dataframe thead th {\n",
       "        text-align: right;\n",
       "    }\n",
       "</style>\n",
       "<table border=\"1\" class=\"dataframe\">\n",
       "  <thead>\n",
       "    <tr style=\"text-align: right;\">\n",
       "      <th></th>\n",
       "      <th></th>\n",
       "      <th>POP_2010</th>\n",
       "    </tr>\n",
       "    <tr>\n",
       "      <th>STATE</th>\n",
       "      <th>NAME_right</th>\n",
       "      <th></th>\n",
       "    </tr>\n",
       "  </thead>\n",
       "  <tbody>\n",
       "    <tr>\n",
       "      <th rowspan=\"5\" valign=\"top\">IA</th>\n",
       "      <th>Adair</th>\n",
       "      <td>5673.0</td>\n",
       "    </tr>\n",
       "    <tr>\n",
       "      <th>Adams</th>\n",
       "      <td>2040.0</td>\n",
       "    </tr>\n",
       "    <tr>\n",
       "      <th>Allamakee</th>\n",
       "      <td>8117.0</td>\n",
       "    </tr>\n",
       "    <tr>\n",
       "      <th>Appanoose</th>\n",
       "      <td>8140.0</td>\n",
       "    </tr>\n",
       "    <tr>\n",
       "      <th>Audubon</th>\n",
       "      <td>3529.0</td>\n",
       "    </tr>\n",
       "    <tr>\n",
       "      <th>...</th>\n",
       "      <th>...</th>\n",
       "      <td>...</td>\n",
       "    </tr>\n",
       "    <tr>\n",
       "      <th rowspan=\"5\" valign=\"top\">SD</th>\n",
       "      <th>Turner</th>\n",
       "      <td>4431.0</td>\n",
       "    </tr>\n",
       "    <tr>\n",
       "      <th>Union</th>\n",
       "      <td>7852.0</td>\n",
       "    </tr>\n",
       "    <tr>\n",
       "      <th>Walworth</th>\n",
       "      <td>4389.0</td>\n",
       "    </tr>\n",
       "    <tr>\n",
       "      <th>Yankton</th>\n",
       "      <td>15811.0</td>\n",
       "    </tr>\n",
       "    <tr>\n",
       "      <th>Ziebach</th>\n",
       "      <td>525.0</td>\n",
       "    </tr>\n",
       "  </tbody>\n",
       "</table>\n",
       "<p>444 rows × 1 columns</p>\n",
       "</div>"
      ],
      "text/plain": [
       "                  POP_2010\n",
       "STATE NAME_right          \n",
       "IA    Adair         5673.0\n",
       "      Adams         2040.0\n",
       "      Allamakee     8117.0\n",
       "      Appanoose     8140.0\n",
       "      Audubon       3529.0\n",
       "...                    ...\n",
       "SD    Turner        4431.0\n",
       "      Union         7852.0\n",
       "      Walworth      4389.0\n",
       "      Yankton      15811.0\n",
       "      Ziebach        525.0\n",
       "\n",
       "[444 rows x 1 columns]"
      ]
     },
     "execution_count": 770,
     "metadata": {},
     "output_type": "execute_result"
    }
   ],
   "source": [
    "joined_df.groupby(['STATE','NAME_right']).sum()[['POP_2010']]"
   ]
  },
  {
   "cell_type": "markdown",
   "id": "82344735",
   "metadata": {},
   "source": [
    "# The total population of each county"
   ]
  },
  {
   "cell_type": "code",
   "execution_count": 771,
   "id": "9952d89a",
   "metadata": {},
   "outputs": [
    {
     "data": {
      "text/html": [
       "<div>\n",
       "<style scoped>\n",
       "    .dataframe tbody tr th:only-of-type {\n",
       "        vertical-align: middle;\n",
       "    }\n",
       "\n",
       "    .dataframe tbody tr th {\n",
       "        vertical-align: top;\n",
       "    }\n",
       "\n",
       "    .dataframe thead th {\n",
       "        text-align: right;\n",
       "    }\n",
       "</style>\n",
       "<table border=\"1\" class=\"dataframe\">\n",
       "  <thead>\n",
       "    <tr style=\"text-align: right;\">\n",
       "      <th></th>\n",
       "      <th></th>\n",
       "      <th>POP_2010</th>\n",
       "    </tr>\n",
       "    <tr>\n",
       "      <th>STATE</th>\n",
       "      <th>NAME_right</th>\n",
       "      <th></th>\n",
       "    </tr>\n",
       "  </thead>\n",
       "  <tbody>\n",
       "    <tr>\n",
       "      <th rowspan=\"5\" valign=\"top\">IA</th>\n",
       "      <th>Adair</th>\n",
       "      <td>5673.0</td>\n",
       "    </tr>\n",
       "    <tr>\n",
       "      <th>Adams</th>\n",
       "      <td>2040.0</td>\n",
       "    </tr>\n",
       "    <tr>\n",
       "      <th>Allamakee</th>\n",
       "      <td>8117.0</td>\n",
       "    </tr>\n",
       "    <tr>\n",
       "      <th>Appanoose</th>\n",
       "      <td>8140.0</td>\n",
       "    </tr>\n",
       "    <tr>\n",
       "      <th>Audubon</th>\n",
       "      <td>3529.0</td>\n",
       "    </tr>\n",
       "    <tr>\n",
       "      <th>...</th>\n",
       "      <th>...</th>\n",
       "      <td>...</td>\n",
       "    </tr>\n",
       "    <tr>\n",
       "      <th rowspan=\"5\" valign=\"top\">SD</th>\n",
       "      <th>Turner</th>\n",
       "      <td>4431.0</td>\n",
       "    </tr>\n",
       "    <tr>\n",
       "      <th>Union</th>\n",
       "      <td>7852.0</td>\n",
       "    </tr>\n",
       "    <tr>\n",
       "      <th>Walworth</th>\n",
       "      <td>4389.0</td>\n",
       "    </tr>\n",
       "    <tr>\n",
       "      <th>Yankton</th>\n",
       "      <td>15811.0</td>\n",
       "    </tr>\n",
       "    <tr>\n",
       "      <th>Ziebach</th>\n",
       "      <td>525.0</td>\n",
       "    </tr>\n",
       "  </tbody>\n",
       "</table>\n",
       "<p>444 rows × 1 columns</p>\n",
       "</div>"
      ],
      "text/plain": [
       "                  POP_2010\n",
       "STATE NAME_right          \n",
       "IA    Adair         5673.0\n",
       "      Adams         2040.0\n",
       "      Allamakee     8117.0\n",
       "      Appanoose     8140.0\n",
       "      Audubon       3529.0\n",
       "...                    ...\n",
       "SD    Turner        4431.0\n",
       "      Union         7852.0\n",
       "      Walworth      4389.0\n",
       "      Yankton      15811.0\n",
       "      Ziebach        525.0\n",
       "\n",
       "[444 rows x 1 columns]"
      ]
     },
     "execution_count": 771,
     "metadata": {},
     "output_type": "execute_result"
    }
   ],
   "source": [
    "joined_df.groupby(['STATE','NAME_right']).sum()[['POP_2010']]"
   ]
  },
  {
   "cell_type": "code",
   "execution_count": null,
   "id": "2a1e4e4b",
   "metadata": {},
   "outputs": [],
   "source": []
  }
 ],
 "metadata": {
  "kernelspec": {
   "display_name": "Python 3",
   "language": "python",
   "name": "python3"
  },
  "language_info": {
   "codemirror_mode": {
    "name": "ipython",
    "version": 3
   },
   "file_extension": ".py",
   "mimetype": "text/x-python",
   "name": "python",
   "nbconvert_exporter": "python",
   "pygments_lexer": "ipython3",
   "version": "3.8.8"
  }
 },
 "nbformat": 4,
 "nbformat_minor": 5
}
