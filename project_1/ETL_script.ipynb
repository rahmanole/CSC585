{
 "cells": [
  {
   "cell_type": "markdown",
   "id": "0cb2642f",
   "metadata": {},
   "source": [
    "# Codes for data extration and transformation"
   ]
  },
  {
   "cell_type": "code",
   "execution_count": 49,
   "id": "13735646",
   "metadata": {},
   "outputs": [],
   "source": [
    "import sqlite3 as sq\n",
    "import pandas as pd\n",
    "import numpy as np\n",
    "import matplotlib.pyplot as plt\n",
    "import seaborn as sns"
   ]
  },
  {
   "cell_type": "code",
   "execution_count": 50,
   "id": "9c86623c",
   "metadata": {},
   "outputs": [],
   "source": [
    "## Function for creating data frame from sqlite database\n",
    "def make_df(table_name,*columns):\n",
    "    conn = sq.connect('db.sqlite3')\n",
    "    sql = 'select '\n",
    "    sql += ','.join(columns) + ' from ' + table_name\n",
    "    df = pd.read_sql_query(sql,conn)\n",
    "    conn.close()\n",
    "    df.columns = [i for i in columns]\n",
    "    return df"
   ]
  },
  {
   "cell_type": "code",
   "execution_count": 51,
   "id": "9656c6b9",
   "metadata": {
    "scrolled": false
   },
   "outputs": [
    {
     "data": {
      "text/html": [
       "<div>\n",
       "<style scoped>\n",
       "    .dataframe tbody tr th:only-of-type {\n",
       "        vertical-align: middle;\n",
       "    }\n",
       "\n",
       "    .dataframe tbody tr th {\n",
       "        vertical-align: top;\n",
       "    }\n",
       "\n",
       "    .dataframe thead th {\n",
       "        text-align: right;\n",
       "    }\n",
       "</style>\n",
       "<table border=\"1\" class=\"dataframe\">\n",
       "  <thead>\n",
       "    <tr style=\"text-align: right;\">\n",
       "      <th></th>\n",
       "      <th>questionID_id</th>\n",
       "      <th>response</th>\n",
       "    </tr>\n",
       "  </thead>\n",
       "  <tbody>\n",
       "    <tr>\n",
       "      <th>0</th>\n",
       "      <td>16</td>\n",
       "      <td>5</td>\n",
       "    </tr>\n",
       "    <tr>\n",
       "      <th>1</th>\n",
       "      <td>17</td>\n",
       "      <td>3</td>\n",
       "    </tr>\n",
       "    <tr>\n",
       "      <th>2</th>\n",
       "      <td>18</td>\n",
       "      <td>3</td>\n",
       "    </tr>\n",
       "    <tr>\n",
       "      <th>3</th>\n",
       "      <td>19</td>\n",
       "      <td>1</td>\n",
       "    </tr>\n",
       "    <tr>\n",
       "      <th>4</th>\n",
       "      <td>20</td>\n",
       "      <td>5</td>\n",
       "    </tr>\n",
       "  </tbody>\n",
       "</table>\n",
       "</div>"
      ],
      "text/plain": [
       "   questionID_id response\n",
       "0             16        5\n",
       "1             17        3\n",
       "2             18        3\n",
       "3             19        1\n",
       "4             20        5"
      ]
     },
     "execution_count": 51,
     "metadata": {},
     "output_type": "execute_result"
    }
   ],
   "source": [
    "qid_res = make_df('surveys_response','questionID_id','response')\n",
    "qid_res.head()"
   ]
  },
  {
   "cell_type": "code",
   "execution_count": 52,
   "id": "f1cf7d40",
   "metadata": {
    "scrolled": true
   },
   "outputs": [
    {
     "data": {
      "text/plain": [
       "(118, 3)"
      ]
     },
     "execution_count": 52,
     "metadata": {},
     "output_type": "execute_result"
    }
   ],
   "source": [
    "qstn_txt = make_df('surveys_question_text','questionTextID','factorID_id','positive_p')\n",
    "qstn_txt.shape"
   ]
  },
  {
   "cell_type": "code",
   "execution_count": 53,
   "id": "47e6b95f",
   "metadata": {},
   "outputs": [
    {
     "data": {
      "text/html": [
       "<div>\n",
       "<style scoped>\n",
       "    .dataframe tbody tr th:only-of-type {\n",
       "        vertical-align: middle;\n",
       "    }\n",
       "\n",
       "    .dataframe tbody tr th {\n",
       "        vertical-align: top;\n",
       "    }\n",
       "\n",
       "    .dataframe thead th {\n",
       "        text-align: right;\n",
       "    }\n",
       "</style>\n",
       "<table border=\"1\" class=\"dataframe\">\n",
       "  <thead>\n",
       "    <tr style=\"text-align: right;\">\n",
       "      <th></th>\n",
       "      <th>surveyID</th>\n",
       "      <th>userID_id</th>\n",
       "      <th>creationDate</th>\n",
       "      <th>completionDate</th>\n",
       "    </tr>\n",
       "  </thead>\n",
       "  <tbody>\n",
       "    <tr>\n",
       "      <th>0</th>\n",
       "      <td>33</td>\n",
       "      <td>5</td>\n",
       "      <td>2021-03-09 21:07:01</td>\n",
       "      <td>2021-03-10 03:10:08.933258</td>\n",
       "    </tr>\n",
       "    <tr>\n",
       "      <th>1</th>\n",
       "      <td>34</td>\n",
       "      <td>6</td>\n",
       "      <td>2021-03-09 21:07:01</td>\n",
       "      <td>2021-03-10 05:28:51.943376</td>\n",
       "    </tr>\n",
       "    <tr>\n",
       "      <th>2</th>\n",
       "      <td>35</td>\n",
       "      <td>7</td>\n",
       "      <td>2021-03-09 21:07:02</td>\n",
       "      <td>None</td>\n",
       "    </tr>\n",
       "    <tr>\n",
       "      <th>3</th>\n",
       "      <td>36</td>\n",
       "      <td>8</td>\n",
       "      <td>2021-03-09 21:07:02</td>\n",
       "      <td>None</td>\n",
       "    </tr>\n",
       "    <tr>\n",
       "      <th>4</th>\n",
       "      <td>37</td>\n",
       "      <td>9</td>\n",
       "      <td>2021-03-09 21:07:02</td>\n",
       "      <td>None</td>\n",
       "    </tr>\n",
       "  </tbody>\n",
       "</table>\n",
       "</div>"
      ],
      "text/plain": [
       "   surveyID  userID_id         creationDate              completionDate\n",
       "0        33          5  2021-03-09 21:07:01  2021-03-10 03:10:08.933258\n",
       "1        34          6  2021-03-09 21:07:01  2021-03-10 05:28:51.943376\n",
       "2        35          7  2021-03-09 21:07:02                        None\n",
       "3        36          8  2021-03-09 21:07:02                        None\n",
       "4        37          9  2021-03-09 21:07:02                        None"
      ]
     },
     "execution_count": 53,
     "metadata": {},
     "output_type": "execute_result"
    }
   ],
   "source": [
    "surv = make_df( 'surveys_survey','surveyID', 'userID_id', 'creationDate','completionDate')\n",
    "surv.head()"
   ]
  },
  {
   "cell_type": "code",
   "execution_count": 54,
   "id": "f0365a18",
   "metadata": {},
   "outputs": [
    {
     "data": {
      "text/html": [
       "<div>\n",
       "<style scoped>\n",
       "    .dataframe tbody tr th:only-of-type {\n",
       "        vertical-align: middle;\n",
       "    }\n",
       "\n",
       "    .dataframe tbody tr th {\n",
       "        vertical-align: top;\n",
       "    }\n",
       "\n",
       "    .dataframe thead th {\n",
       "        text-align: right;\n",
       "    }\n",
       "</style>\n",
       "<table border=\"1\" class=\"dataframe\">\n",
       "  <thead>\n",
       "    <tr style=\"text-align: right;\">\n",
       "      <th></th>\n",
       "      <th>factorID</th>\n",
       "      <th>factorName</th>\n",
       "      <th>studyID_id</th>\n",
       "    </tr>\n",
       "  </thead>\n",
       "  <tbody>\n",
       "    <tr>\n",
       "      <th>0</th>\n",
       "      <td>1</td>\n",
       "      <td>Factor 1</td>\n",
       "      <td>1</td>\n",
       "    </tr>\n",
       "    <tr>\n",
       "      <th>1</th>\n",
       "      <td>2</td>\n",
       "      <td>Factor 2</td>\n",
       "      <td>1</td>\n",
       "    </tr>\n",
       "    <tr>\n",
       "      <th>2</th>\n",
       "      <td>3</td>\n",
       "      <td>Factor 3</td>\n",
       "      <td>1</td>\n",
       "    </tr>\n",
       "    <tr>\n",
       "      <th>3</th>\n",
       "      <td>4</td>\n",
       "      <td>Factor 4</td>\n",
       "      <td>1</td>\n",
       "    </tr>\n",
       "    <tr>\n",
       "      <th>4</th>\n",
       "      <td>5</td>\n",
       "      <td>Factor 5</td>\n",
       "      <td>1</td>\n",
       "    </tr>\n",
       "  </tbody>\n",
       "</table>\n",
       "</div>"
      ],
      "text/plain": [
       "   factorID factorName  studyID_id\n",
       "0         1   Factor 1           1\n",
       "1         2   Factor 2           1\n",
       "2         3   Factor 3           1\n",
       "3         4   Factor 4           1\n",
       "4         5   Factor 5           1"
      ]
     },
     "execution_count": 54,
     "metadata": {},
     "output_type": "execute_result"
    }
   ],
   "source": [
    "factor = make_df('surveys_factor','factorID', 'factorName', 'studyID_id')\n",
    "factor.head()"
   ]
  },
  {
   "cell_type": "code",
   "execution_count": 55,
   "id": "829bbacd",
   "metadata": {},
   "outputs": [
    {
     "data": {
      "text/html": [
       "<div>\n",
       "<style scoped>\n",
       "    .dataframe tbody tr th:only-of-type {\n",
       "        vertical-align: middle;\n",
       "    }\n",
       "\n",
       "    .dataframe tbody tr th {\n",
       "        vertical-align: top;\n",
       "    }\n",
       "\n",
       "    .dataframe thead th {\n",
       "        text-align: right;\n",
       "    }\n",
       "</style>\n",
       "<table border=\"1\" class=\"dataframe\">\n",
       "  <thead>\n",
       "    <tr style=\"text-align: right;\">\n",
       "      <th></th>\n",
       "      <th>factorID</th>\n",
       "      <th>factorName</th>\n",
       "      <th>studyID_id</th>\n",
       "    </tr>\n",
       "  </thead>\n",
       "  <tbody>\n",
       "    <tr>\n",
       "      <th>0</th>\n",
       "      <td>1</td>\n",
       "      <td>Factor 1</td>\n",
       "      <td>1</td>\n",
       "    </tr>\n",
       "    <tr>\n",
       "      <th>1</th>\n",
       "      <td>2</td>\n",
       "      <td>Factor 2</td>\n",
       "      <td>1</td>\n",
       "    </tr>\n",
       "    <tr>\n",
       "      <th>2</th>\n",
       "      <td>3</td>\n",
       "      <td>Factor 3</td>\n",
       "      <td>1</td>\n",
       "    </tr>\n",
       "    <tr>\n",
       "      <th>3</th>\n",
       "      <td>4</td>\n",
       "      <td>Factor 4</td>\n",
       "      <td>1</td>\n",
       "    </tr>\n",
       "    <tr>\n",
       "      <th>4</th>\n",
       "      <td>5</td>\n",
       "      <td>Factor 5</td>\n",
       "      <td>1</td>\n",
       "    </tr>\n",
       "  </tbody>\n",
       "</table>\n",
       "</div>"
      ],
      "text/plain": [
       "   factorID factorName  studyID_id\n",
       "0         1   Factor 1           1\n",
       "1         2   Factor 2           1\n",
       "2         3   Factor 3           1\n",
       "3         4   Factor 4           1\n",
       "4         5   Factor 5           1"
      ]
     },
     "execution_count": 55,
     "metadata": {},
     "output_type": "execute_result"
    }
   ],
   "source": [
    "qstn = make_df('surveys_question','questionID' , 'questionTextID_id' , 'surveyID_id')\n",
    "factor.head()"
   ]
  },
  {
   "cell_type": "code",
   "execution_count": 56,
   "id": "e23bc62f",
   "metadata": {},
   "outputs": [
    {
     "data": {
      "text/html": [
       "<div>\n",
       "<style scoped>\n",
       "    .dataframe tbody tr th:only-of-type {\n",
       "        vertical-align: middle;\n",
       "    }\n",
       "\n",
       "    .dataframe tbody tr th {\n",
       "        vertical-align: top;\n",
       "    }\n",
       "\n",
       "    .dataframe thead th {\n",
       "        text-align: right;\n",
       "    }\n",
       "</style>\n",
       "<table border=\"1\" class=\"dataframe\">\n",
       "  <thead>\n",
       "    <tr style=\"text-align: right;\">\n",
       "      <th></th>\n",
       "      <th>userID</th>\n",
       "      <th>userGroup</th>\n",
       "      <th>age</th>\n",
       "      <th>location</th>\n",
       "      <th>hireDate</th>\n",
       "    </tr>\n",
       "  </thead>\n",
       "  <tbody>\n",
       "    <tr>\n",
       "      <th>0</th>\n",
       "      <td>1</td>\n",
       "      <td>The Boss</td>\n",
       "      <td>NaN</td>\n",
       "      <td>None</td>\n",
       "      <td>None</td>\n",
       "    </tr>\n",
       "    <tr>\n",
       "      <th>1</th>\n",
       "      <td>2</td>\n",
       "      <td>test</td>\n",
       "      <td>NaN</td>\n",
       "      <td>None</td>\n",
       "      <td>None</td>\n",
       "    </tr>\n",
       "    <tr>\n",
       "      <th>2</th>\n",
       "      <td>3</td>\n",
       "      <td>test</td>\n",
       "      <td>NaN</td>\n",
       "      <td>None</td>\n",
       "      <td>None</td>\n",
       "    </tr>\n",
       "    <tr>\n",
       "      <th>3</th>\n",
       "      <td>4</td>\n",
       "      <td>test</td>\n",
       "      <td>NaN</td>\n",
       "      <td>None</td>\n",
       "      <td>None</td>\n",
       "    </tr>\n",
       "    <tr>\n",
       "      <th>4</th>\n",
       "      <td>5</td>\n",
       "      <td>Sophomore</td>\n",
       "      <td>NaN</td>\n",
       "      <td>None</td>\n",
       "      <td>None</td>\n",
       "    </tr>\n",
       "  </tbody>\n",
       "</table>\n",
       "</div>"
      ],
      "text/plain": [
       "   userID  userGroup  age location hireDate\n",
       "0       1   The Boss  NaN     None     None\n",
       "1       2       test  NaN     None     None\n",
       "2       3       test  NaN     None     None\n",
       "3       4       test  NaN     None     None\n",
       "4       5  Sophomore  NaN     None     None"
      ]
     },
     "execution_count": 56,
     "metadata": {},
     "output_type": "execute_result"
    }
   ],
   "source": [
    "user = make_df('surveys_user','userID', 'userGroup', 'age', 'location', 'hireDate')\n",
    "user.head()"
   ]
  },
  {
   "cell_type": "code",
   "execution_count": 57,
   "id": "2d1a4375",
   "metadata": {
    "scrolled": true
   },
   "outputs": [
    {
     "data": {
      "text/plain": [
       "(8296, 15)"
      ]
     },
     "execution_count": 57,
     "metadata": {},
     "output_type": "execute_result"
    }
   ],
   "source": [
    "dw_df = pd.merge(qid_res,qstn,left_on = 'questionID_id',right_on='questionID',how='inner')\n",
    "dw_df = pd.merge(dw_df,qstn_txt,left_on = 'questionTextID_id',right_on='questionTextID',how='inner')\n",
    "dw_df = pd.merge(dw_df,factor,left_on = 'factorID_id',right_on='factorID',how='inner')\n",
    "dw_df = pd.merge(dw_df,surv,left_on = 'surveyID_id',right_on='surveyID',how='inner')\n",
    "dw_df.shape"
   ]
  },
  {
   "cell_type": "code",
   "execution_count": 58,
   "id": "be6d7251",
   "metadata": {},
   "outputs": [
    {
     "data": {
      "text/plain": [
       "questionID_id        False\n",
       "response             False\n",
       "questionID           False\n",
       "questionTextID_id    False\n",
       "surveyID_id          False\n",
       "questionTextID       False\n",
       "factorID_id          False\n",
       "positive_p           False\n",
       "factorID             False\n",
       "factorName           False\n",
       "studyID_id           False\n",
       "surveyID             False\n",
       "userID_id            False\n",
       "creationDate         False\n",
       "completionDate        True\n",
       "dtype: bool"
      ]
     },
     "execution_count": 58,
     "metadata": {},
     "output_type": "execute_result"
    }
   ],
   "source": [
    "dw_df.isnull().any()"
   ]
  },
  {
   "cell_type": "code",
   "execution_count": 59,
   "id": "c32c462e",
   "metadata": {
    "scrolled": true
   },
   "outputs": [
    {
     "data": {
      "text/plain": [
       "['jh', 'jbj', 'False', 'sd', 'asd']"
      ]
     },
     "execution_count": 59,
     "metadata": {},
     "output_type": "execute_result"
    }
   ],
   "source": [
    "response_values = list(pd.unique(dw_df['response']))\n",
    "string_response = [r for r in response_values if r not in '123456']\n",
    "string_response"
   ]
  },
  {
   "cell_type": "code",
   "execution_count": 60,
   "id": "080c58da",
   "metadata": {
    "scrolled": false
   },
   "outputs": [
    {
     "data": {
      "text/plain": [
       "(8291, 15)"
      ]
     },
     "execution_count": 60,
     "metadata": {},
     "output_type": "execute_result"
    }
   ],
   "source": [
    "b = ~dw_df.response.isin(string_response)\n",
    "dw_df = dw_df[b]\n",
    "dw_df['response'] = pd.to_numeric(dw_df.response)\n",
    "dw_df.shape"
   ]
  },
  {
   "cell_type": "code",
   "execution_count": 61,
   "id": "90b46040",
   "metadata": {
    "scrolled": true
   },
   "outputs": [],
   "source": [
    "response = dw_df.response\n",
    "dw_df.loc[dw_df.positive_p==0,'response'] = (7- response)\n",
    "dw_df['creationDate'] = pd.to_datetime(dw_df['creationDate'])"
   ]
  },
  {
   "cell_type": "code",
   "execution_count": 62,
   "id": "55a983a3",
   "metadata": {},
   "outputs": [],
   "source": [
    "dw_df.to_csv('dw_df.csv')"
   ]
  },
  {
   "cell_type": "code",
   "execution_count": null,
   "id": "7d92bf24",
   "metadata": {},
   "outputs": [],
   "source": []
  }
 ],
 "metadata": {
  "kernelspec": {
   "display_name": "Python 3",
   "language": "python",
   "name": "python3"
  },
  "language_info": {
   "codemirror_mode": {
    "name": "ipython",
    "version": 3
   },
   "file_extension": ".py",
   "mimetype": "text/x-python",
   "name": "python",
   "nbconvert_exporter": "python",
   "pygments_lexer": "ipython3",
   "version": "3.8.8"
  }
 },
 "nbformat": 4,
 "nbformat_minor": 5
}
