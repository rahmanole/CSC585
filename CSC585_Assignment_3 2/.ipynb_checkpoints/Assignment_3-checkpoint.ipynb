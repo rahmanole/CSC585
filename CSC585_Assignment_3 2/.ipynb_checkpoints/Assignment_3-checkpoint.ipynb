{
 "cells": [
  {
   "cell_type": "code",
   "execution_count": 1,
   "id": "991f0f7e",
   "metadata": {},
   "outputs": [],
   "source": [
    "import numpy as np\n",
    "import numpy.random as rn\n",
    "import math\n",
    "import functools\n",
    "import pandas as pd"
   ]
  },
  {
   "cell_type": "markdown",
   "id": "3527cd77",
   "metadata": {},
   "source": [
    "<br>\n",
    "<p></p>\n",
    "<p></p>\n",
    "<p>2. Use the Python random library (not the numpy one) to create a list of 20 random numbers. Provide\n",
    "the code snippet and output.</p>"
   ]
  },
  {
   "cell_type": "code",
   "execution_count": 13,
   "id": "8b4b99d0",
   "metadata": {},
   "outputs": [
    {
     "data": {
      "text/plain": [
       "array([0.91776255, 0.47702682, 0.38853017, 0.77706385, 0.97167234,\n",
       "       0.74281808, 0.81091842, 0.66708782, 0.71603537, 0.32609375,\n",
       "       0.4447418 , 0.52699454, 0.15439155, 0.5731983 , 0.37102435,\n",
       "       0.24136848, 0.43508799, 0.83190474, 0.10161592, 0.76184039])"
      ]
     },
     "execution_count": 13,
     "metadata": {},
     "output_type": "execute_result"
    }
   ],
   "source": [
    "rand_nums = rn.rand(20)\n",
    "rand_nums"
   ]
  },
  {
   "cell_type": "markdown",
   "id": "a118a52c",
   "metadata": {},
   "source": [
    "<br>\n",
    "<p>3. Sort the list from question two and return into a new list leaving the original list unchanged. Provide\n",
    "the code snippet and output.</p>"
   ]
  },
  {
   "cell_type": "code",
   "execution_count": 16,
   "id": "92ef8170",
   "metadata": {},
   "outputs": [
    {
     "data": {
      "text/plain": [
       "array([0.10161592, 0.15439155, 0.24136848, 0.32609375, 0.37102435,\n",
       "       0.38853017, 0.43508799, 0.4447418 , 0.47702682, 0.52699454,\n",
       "       0.5731983 , 0.66708782, 0.71603537, 0.74281808, 0.76184039,\n",
       "       0.77706385, 0.81091842, 0.83190474, 0.91776255, 0.97167234])"
      ]
     },
     "execution_count": 16,
     "metadata": {},
     "output_type": "execute_result"
    }
   ],
   "source": [
    "sorted_rand_nums = rand_nums.copy()\n",
    "sorted_rand_nums.sort()\n",
    "sorted_rand_nums"
   ]
  },
  {
   "cell_type": "markdown",
   "id": "f6275508",
   "metadata": {},
   "source": [
    "<br>\n",
    "<p>4. Use a list comprehension to compute a new list from the output of question two which contains the\n",
    "square of each element. Provide the code snippet and output.</p>"
   ]
  },
  {
   "cell_type": "code",
   "execution_count": 17,
   "id": "52127706",
   "metadata": {},
   "outputs": [
    {
     "data": {
      "text/plain": [
       "[0.8422880954537756,\n",
       " 0.22755458820801036,\n",
       " 0.1509556917042688,\n",
       " 0.6038282328883188,\n",
       " 0.9441471438308892,\n",
       " 0.5517786978236987,\n",
       " 0.6575886839510597,\n",
       " 0.4450061643640957,\n",
       " 0.5127066452946052,\n",
       " 0.10633713123927047,\n",
       " 0.19779527099990024,\n",
       " 0.2777232452483508,\n",
       " 0.02383674931412893,\n",
       " 0.32855628916168433,\n",
       " 0.1376590691467966,\n",
       " 0.05825874082710794,\n",
       " 0.18930156189916336,\n",
       " 0.6920654898814224,\n",
       " 0.01032579466800494,\n",
       " 0.5804007748039282]"
      ]
     },
     "execution_count": 17,
     "metadata": {},
     "output_type": "execute_result"
    }
   ],
   "source": [
    "sq_rand_nums = [x**2 for x in rand_nums]\n",
    "sq_rand_nums"
   ]
  },
  {
   "cell_type": "markdown",
   "id": "fe6d048e",
   "metadata": {},
   "source": [
    "<p></p>\n",
    "<p></p>\n",
    "<p>5. Write a function which computes the square root of it’s input and returns the value. Use a list\n",
    "comprehension to compute a new list containing the square root of each element of the list created in\n",
    "question four. Provide the code snippet and output.</p>"
   ]
  },
  {
   "cell_type": "code",
   "execution_count": 48,
   "id": "5cf51185",
   "metadata": {},
   "outputs": [
    {
     "data": {
      "text/plain": [
       "[0.9177625485133808,\n",
       " 0.47702682126690776,\n",
       " 0.3885301683322272,\n",
       " 0.7770638538037391,\n",
       " 0.9716723438643755,\n",
       " 0.7428180785520091,\n",
       " 0.8109184200343829,\n",
       " 0.6670878235765481,\n",
       " 0.7160353659524125,\n",
       " 0.3260937460904003,\n",
       " 0.4447418026224882,\n",
       " 0.5269945400555406,\n",
       " 0.15439154547490264,\n",
       " 0.5731982982892433,\n",
       " 0.3710243511506982,\n",
       " 0.24136847521395155,\n",
       " 0.4350879932831557,\n",
       " 0.8319047360614209,\n",
       " 0.10161591739488918,\n",
       " 0.761840386697849]"
      ]
     },
     "execution_count": 48,
     "metadata": {},
     "output_type": "execute_result"
    }
   ],
   "source": [
    "def find_sqrt(x):\n",
    "    return math.sqrt(x)\n",
    "sqrt_rand_nums = [find_sqrt(x) for x in sq_rand_nums]\n",
    "sqrt_rand_nums"
   ]
  },
  {
   "cell_type": "markdown",
   "id": "c6e1f3f7",
   "metadata": {},
   "source": [
    "<br>\n",
    "<p>6. Use the reduce function (see the Python documentation) to compute the sum of the elements of the\n",
    "list created in question five. Provide the code snippet and output.</p>"
   ]
  },
  {
   "cell_type": "code",
   "execution_count": 27,
   "id": "335c1167",
   "metadata": {},
   "outputs": [
    {
     "data": {
      "text/plain": [
       "11.237177216230524"
      ]
     },
     "execution_count": 27,
     "metadata": {},
     "output_type": "execute_result"
    }
   ],
   "source": [
    "functools.reduce(lambda a,b: a+b, sqrt_rand_nums)"
   ]
  },
  {
   "cell_type": "markdown",
   "id": "fc277a1c",
   "metadata": {},
   "source": [
    "<br>\n",
    "<p>7. Create a pandas DataFrame (DF) from a 40 x 3 (row by column) numpy array generated using the\n",
    "random module of numpy. Once in a DF, multiply each element by 100. After the multiplication,\n",
    "make sure the data has been changed in the DF! Provide the code snippet and output.</p>"
   ]
  },
  {
   "cell_type": "code",
   "execution_count": 38,
   "id": "9af7c781",
   "metadata": {},
   "outputs": [
    {
     "data": {
      "text/html": [
       "<div>\n",
       "<style scoped>\n",
       "    .dataframe tbody tr th:only-of-type {\n",
       "        vertical-align: middle;\n",
       "    }\n",
       "\n",
       "    .dataframe tbody tr th {\n",
       "        vertical-align: top;\n",
       "    }\n",
       "\n",
       "    .dataframe thead th {\n",
       "        text-align: right;\n",
       "    }\n",
       "</style>\n",
       "<table border=\"1\" class=\"dataframe\">\n",
       "  <thead>\n",
       "    <tr style=\"text-align: right;\">\n",
       "      <th></th>\n",
       "      <th>0</th>\n",
       "      <th>1</th>\n",
       "      <th>2</th>\n",
       "    </tr>\n",
       "  </thead>\n",
       "  <tbody>\n",
       "    <tr>\n",
       "      <th>0</th>\n",
       "      <td>17.722665</td>\n",
       "      <td>93.994028</td>\n",
       "      <td>2.055120</td>\n",
       "    </tr>\n",
       "    <tr>\n",
       "      <th>1</th>\n",
       "      <td>69.852817</td>\n",
       "      <td>96.296823</td>\n",
       "      <td>71.869591</td>\n",
       "    </tr>\n",
       "    <tr>\n",
       "      <th>2</th>\n",
       "      <td>75.715306</td>\n",
       "      <td>34.705907</td>\n",
       "      <td>75.408260</td>\n",
       "    </tr>\n",
       "    <tr>\n",
       "      <th>3</th>\n",
       "      <td>2.512994</td>\n",
       "      <td>33.748453</td>\n",
       "      <td>74.533816</td>\n",
       "    </tr>\n",
       "    <tr>\n",
       "      <th>4</th>\n",
       "      <td>4.096581</td>\n",
       "      <td>63.599617</td>\n",
       "      <td>60.565771</td>\n",
       "    </tr>\n",
       "  </tbody>\n",
       "</table>\n",
       "</div>"
      ],
      "text/plain": [
       "           0          1          2\n",
       "0  17.722665  93.994028   2.055120\n",
       "1  69.852817  96.296823  71.869591\n",
       "2  75.715306  34.705907  75.408260\n",
       "3   2.512994  33.748453  74.533816\n",
       "4   4.096581  63.599617  60.565771"
      ]
     },
     "execution_count": 38,
     "metadata": {},
     "output_type": "execute_result"
    }
   ],
   "source": [
    "rn.rand(40,3)\n",
    "df = pd.DataFrame(rn.rand(40,3))\n",
    "df = df*100\n",
    "df.head()"
   ]
  },
  {
   "cell_type": "markdown",
   "id": "d04fda6d",
   "metadata": {},
   "source": [
    "<br>\n",
    "<p>8. Compute the sum of the three columns for each of the forty rows. Provide the code snippet and\n",
    "output. Store the sum as a new column in the DF from question seven. Provide the code snippet and\n",
    "output.p>"
   ]
  },
  {
   "cell_type": "code",
   "execution_count": 40,
   "id": "f9e6129a",
   "metadata": {},
   "outputs": [
    {
     "data": {
      "text/html": [
       "<div>\n",
       "<style scoped>\n",
       "    .dataframe tbody tr th:only-of-type {\n",
       "        vertical-align: middle;\n",
       "    }\n",
       "\n",
       "    .dataframe tbody tr th {\n",
       "        vertical-align: top;\n",
       "    }\n",
       "\n",
       "    .dataframe thead th {\n",
       "        text-align: right;\n",
       "    }\n",
       "</style>\n",
       "<table border=\"1\" class=\"dataframe\">\n",
       "  <thead>\n",
       "    <tr style=\"text-align: right;\">\n",
       "      <th></th>\n",
       "      <th>0</th>\n",
       "      <th>1</th>\n",
       "      <th>2</th>\n",
       "      <th>4</th>\n",
       "    </tr>\n",
       "  </thead>\n",
       "  <tbody>\n",
       "    <tr>\n",
       "      <th>0</th>\n",
       "      <td>17.722665</td>\n",
       "      <td>93.994028</td>\n",
       "      <td>2.055120</td>\n",
       "      <td>113.771813</td>\n",
       "    </tr>\n",
       "    <tr>\n",
       "      <th>1</th>\n",
       "      <td>69.852817</td>\n",
       "      <td>96.296823</td>\n",
       "      <td>71.869591</td>\n",
       "      <td>238.019231</td>\n",
       "    </tr>\n",
       "    <tr>\n",
       "      <th>2</th>\n",
       "      <td>75.715306</td>\n",
       "      <td>34.705907</td>\n",
       "      <td>75.408260</td>\n",
       "      <td>185.829473</td>\n",
       "    </tr>\n",
       "    <tr>\n",
       "      <th>3</th>\n",
       "      <td>2.512994</td>\n",
       "      <td>33.748453</td>\n",
       "      <td>74.533816</td>\n",
       "      <td>110.795263</td>\n",
       "    </tr>\n",
       "    <tr>\n",
       "      <th>4</th>\n",
       "      <td>4.096581</td>\n",
       "      <td>63.599617</td>\n",
       "      <td>60.565771</td>\n",
       "      <td>128.261969</td>\n",
       "    </tr>\n",
       "  </tbody>\n",
       "</table>\n",
       "</div>"
      ],
      "text/plain": [
       "           0          1          2           4\n",
       "0  17.722665  93.994028   2.055120  113.771813\n",
       "1  69.852817  96.296823  71.869591  238.019231\n",
       "2  75.715306  34.705907  75.408260  185.829473\n",
       "3   2.512994  33.748453  74.533816  110.795263\n",
       "4   4.096581  63.599617  60.565771  128.261969"
      ]
     },
     "execution_count": 40,
     "metadata": {},
     "output_type": "execute_result"
    }
   ],
   "source": [
    "df[4] = df[0]+df[1]+df[2]\n",
    "df.head()"
   ]
  },
  {
   "cell_type": "markdown",
   "id": "4dca1243",
   "metadata": {},
   "source": [
    "<br>\n",
    "<p>9. Create a new DF from the DF created in question eight which contains all rows (include all four\n",
    "columns) where the sum column is greater than 125. Provide the code snippet and output.</p>"
   ]
  },
  {
   "cell_type": "code",
   "execution_count": 45,
   "id": "9bc6ed75",
   "metadata": {},
   "outputs": [
    {
     "data": {
      "text/html": [
       "<div>\n",
       "<style scoped>\n",
       "    .dataframe tbody tr th:only-of-type {\n",
       "        vertical-align: middle;\n",
       "    }\n",
       "\n",
       "    .dataframe tbody tr th {\n",
       "        vertical-align: top;\n",
       "    }\n",
       "\n",
       "    .dataframe thead th {\n",
       "        text-align: right;\n",
       "    }\n",
       "</style>\n",
       "<table border=\"1\" class=\"dataframe\">\n",
       "  <thead>\n",
       "    <tr style=\"text-align: right;\">\n",
       "      <th></th>\n",
       "      <th>0</th>\n",
       "      <th>1</th>\n",
       "      <th>2</th>\n",
       "      <th>4</th>\n",
       "    </tr>\n",
       "  </thead>\n",
       "  <tbody>\n",
       "    <tr>\n",
       "      <th>1</th>\n",
       "      <td>69.852817</td>\n",
       "      <td>96.296823</td>\n",
       "      <td>71.869591</td>\n",
       "      <td>238.019231</td>\n",
       "    </tr>\n",
       "    <tr>\n",
       "      <th>2</th>\n",
       "      <td>75.715306</td>\n",
       "      <td>34.705907</td>\n",
       "      <td>75.408260</td>\n",
       "      <td>185.829473</td>\n",
       "    </tr>\n",
       "    <tr>\n",
       "      <th>4</th>\n",
       "      <td>4.096581</td>\n",
       "      <td>63.599617</td>\n",
       "      <td>60.565771</td>\n",
       "      <td>128.261969</td>\n",
       "    </tr>\n",
       "    <tr>\n",
       "      <th>6</th>\n",
       "      <td>83.142592</td>\n",
       "      <td>85.209122</td>\n",
       "      <td>4.375873</td>\n",
       "      <td>172.727586</td>\n",
       "    </tr>\n",
       "    <tr>\n",
       "      <th>8</th>\n",
       "      <td>68.882328</td>\n",
       "      <td>61.708167</td>\n",
       "      <td>43.126675</td>\n",
       "      <td>173.717170</td>\n",
       "    </tr>\n",
       "  </tbody>\n",
       "</table>\n",
       "</div>"
      ],
      "text/plain": [
       "           0          1          2           4\n",
       "1  69.852817  96.296823  71.869591  238.019231\n",
       "2  75.715306  34.705907  75.408260  185.829473\n",
       "4   4.096581  63.599617  60.565771  128.261969\n",
       "6  83.142592  85.209122   4.375873  172.727586\n",
       "8  68.882328  61.708167  43.126675  173.717170"
      ]
     },
     "execution_count": 45,
     "metadata": {},
     "output_type": "execute_result"
    }
   ],
   "source": [
    "df2 = df[df[4]>125]\n",
    "df2.head()"
   ]
  }
 ],
 "metadata": {
  "kernelspec": {
   "display_name": "Python 3 (ipykernel)",
   "language": "python",
   "name": "python3"
  },
  "language_info": {
   "codemirror_mode": {
    "name": "ipython",
    "version": 3
   },
   "file_extension": ".py",
   "mimetype": "text/x-python",
   "name": "python",
   "nbconvert_exporter": "python",
   "pygments_lexer": "ipython3",
   "version": "3.8.8"
  }
 },
 "nbformat": 4,
 "nbformat_minor": 5
}
